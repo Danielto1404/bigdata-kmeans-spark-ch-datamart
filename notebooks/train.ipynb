{
 "cells": [
  {
   "cell_type": "code",
   "execution_count": 1,
   "metadata": {},
   "outputs": [
    {
     "name": "stdout",
     "output_type": "stream",
     "text": [
      "Initializing SparkSession...\n",
      "23/06/12 16:12:44 WARN Utils: Your hostname, Daniils-MacBook-Pro.local resolves to a loopback address: 127.0.0.1; using 192.168.0.110 instead (on interface en0)\n",
      "23/06/12 16:12:44 WARN Utils: Set SPARK_LOCAL_IP if you need to bind to another address\n",
      "Setting default log level to \"WARN\".\n",
      "To adjust logging level use sc.setLogLevel(newLevel). For SparkR, use setLogLevel(newLevel).\n",
      "23/06/12 16:12:44 WARN NativeCodeLoader: Unable to load native-hadoop library for your platform... using builtin-java classes where applicable\n",
      "Loading data...\n",
      "23/06/12 16:12:48 WARN package: Truncated the string representation of a plan since it was too large. This behavior can be adjusted by setting 'spark.sql.debug.maxToStringFields'.\n",
      "Training model...                                                               \n",
      "23/06/12 16:13:22 WARN InstanceBuilder: Failed to load implementation from:dev.ludovic.netlib.blas.JNIBLAS\n",
      "23/06/12 16:13:22 WARN InstanceBuilder: Failed to load implementation from:dev.ludovic.netlib.blas.VectorBLAS\n",
      "                                                                                \r"
     ]
    }
   ],
   "source": [
    "!cd .. && python src/main.py \\\n",
    "    --data_path=data/en.openfoodfacts.org.products.csv \\\n",
    "    --save_path=models/kmeans.model \\\n",
    "    --columns_json_path=config/columns.json \\\n",
    "    --k=2 \\\n",
    "    --max_iter=10 \\\n",
    "    --distance_measure=\"euclidean\" \\\n",
    "    --tol=1e-4 \\\n",
    "    --seed=42 \\\n",
    "    --driver_cores=6 \\\n",
    "    --driver_memory=\"8g\" \\\n",
    "    --executor_memory=\"16g\""
   ]
  }
 ],
 "metadata": {
  "kernelspec": {
   "display_name": "Python 3",
   "language": "python",
   "name": "python3"
  },
  "language_info": {
   "codemirror_mode": {
    "name": "ipython",
    "version": 3
   },
   "file_extension": ".py",
   "mimetype": "text/x-python",
   "name": "python",
   "nbconvert_exporter": "python",
   "pygments_lexer": "ipython3",
   "version": "3.9.6"
  }
 },
 "nbformat": 4,
 "nbformat_minor": 0
}
